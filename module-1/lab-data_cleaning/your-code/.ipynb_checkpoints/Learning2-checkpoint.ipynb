{
 "cells": [
  {
   "cell_type": "markdown",
   "metadata": {},
   "source": [
    "# Data Manipulation\n",
    "\n",
    "\n",
    "Lesson Goals\n",
    "\n",
    "    Learn how to rename columns in a data frame.\n",
    "    Change the order of a data frame's columns.\n",
    "    Filter records based on conditional statements.\n",
    "    Create additional categories via binning and conditional statements.\n",
    "    Learn how to one-hot encode categorical variables.\n",
    "    Combine data frames via merging and concatenation.\n",
    "    Melt data from wide format into long format.\n",
    "\n",
    "Introduction\n",
    "\n",
    "One of the reasons Pandas has become such a popular tool for data analysts over the last few years is because it makes data transformation and manipulation much faster and easier. In this lesson, we will take a look at how to rename and restructure data as we prepare it to be analyzed.\n",
    "\n",
    "For this lesson, we will be using the same vehicles data set that we practiced importing and exporting in the Import and Export lesson. Let's go ahead and import the CSV version of the data set and see what it actually looks like."
   ]
  },
  {
   "cell_type": "code",
   "execution_count": null,
   "metadata": {},
   "outputs": [],
   "source": [
    "import pandas as pd\n",
    "\n",
    "data = pd.read_csv('vehicles/vehicles.csv')\n",
    "data.head()\n"
   ]
  }
 ],
 "metadata": {
  "kernelspec": {
   "display_name": "Python 3",
   "language": "python",
   "name": "python3"
  },
  "language_info": {
   "codemirror_mode": {
    "name": "ipython",
    "version": 3
   },
   "file_extension": ".py",
   "mimetype": "text/x-python",
   "name": "python",
   "nbconvert_exporter": "python",
   "pygments_lexer": "ipython3",
   "version": "3.7.2"
  }
 },
 "nbformat": 4,
 "nbformat_minor": 2
}
